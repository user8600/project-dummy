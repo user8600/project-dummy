{
  "nbformat": 4,
  "nbformat_minor": 0,
  "metadata": {
    "colab": {
      "provenance": [],
      "collapsed_sections": []
    },
    "kernelspec": {
      "name": "python3",
      "display_name": "Python 3"
    },
    "language_info": {
      "name": "python"
    }
  },
  "cells": [
    {
      "cell_type": "code",
      "execution_count": 1,
      "metadata": {
        "id": "YfO1juLsTmSh"
      },
      "outputs": [],
      "source": [
        "from sklearn.model_selection import train_test_split\n",
        "from sklearn.metrics import accuracy_score\n",
        "from sklearn.neural_network import MLPClassifier\n",
        "from sklearn.pipeline import make_pipeline\n",
        "from sklearn.preprocessing import StandardScaler\n",
        "import numpy as np \n",
        "import pandas as pd \t\n",
        "import matplotlib.pyplot as plt \n",
        "import math\n",
        "from sklearn import preprocessing\n",
        "%matplotlib inline"
      ]
    },
    {
      "cell_type": "code",
      "source": [
        "df = pd.read_csv(\"/content/data.csv\")\n",
        "df.head()"
      ],
      "metadata": {
        "colab": {
          "base_uri": "https://localhost:8080/",
          "height": 206
        },
        "id": "5RlwIWeeUfwJ",
        "outputId": "0fb05dfe-7a0e-471c-999c-5bff932d48d6"
      },
      "execution_count": 2,
      "outputs": [
        {
          "output_type": "execute_result",
          "data": {
            "text/plain": [
              "       Symbol       Date        Open        High         Low       Close  \\\n",
              "0  ADANIPORTS   5/6/2008  150.000000  153.570007  147.820007  151.149994   \n",
              "1  ADANIPORTS   5/7/2008  152.000000  154.460007  150.240005  153.309998   \n",
              "2  ADANIPORTS   5/8/2008  152.199997  156.759995  150.199997  155.889999   \n",
              "3  ADANIPORTS   5/9/2008  155.000000  160.600006  154.210007  156.520004   \n",
              "4  ADANIPORTS  5/12/2008  156.000000  163.479996  151.000000  162.500000   \n",
              "\n",
              "    Adj Close     Volume  \n",
              "0  134.313477  1782030.0  \n",
              "1  136.232864  1180015.0  \n",
              "2  138.525497  1856245.0  \n",
              "3  139.085312  3251375.0  \n",
              "4  144.399170  5031635.0  "
            ],
            "text/html": [
              "\n",
              "  <div id=\"df-d6df2a23-b915-4305-aac5-faf9eb103f77\">\n",
              "    <div class=\"colab-df-container\">\n",
              "      <div>\n",
              "<style scoped>\n",
              "    .dataframe tbody tr th:only-of-type {\n",
              "        vertical-align: middle;\n",
              "    }\n",
              "\n",
              "    .dataframe tbody tr th {\n",
              "        vertical-align: top;\n",
              "    }\n",
              "\n",
              "    .dataframe thead th {\n",
              "        text-align: right;\n",
              "    }\n",
              "</style>\n",
              "<table border=\"1\" class=\"dataframe\">\n",
              "  <thead>\n",
              "    <tr style=\"text-align: right;\">\n",
              "      <th></th>\n",
              "      <th>Symbol</th>\n",
              "      <th>Date</th>\n",
              "      <th>Open</th>\n",
              "      <th>High</th>\n",
              "      <th>Low</th>\n",
              "      <th>Close</th>\n",
              "      <th>Adj Close</th>\n",
              "      <th>Volume</th>\n",
              "    </tr>\n",
              "  </thead>\n",
              "  <tbody>\n",
              "    <tr>\n",
              "      <th>0</th>\n",
              "      <td>ADANIPORTS</td>\n",
              "      <td>5/6/2008</td>\n",
              "      <td>150.000000</td>\n",
              "      <td>153.570007</td>\n",
              "      <td>147.820007</td>\n",
              "      <td>151.149994</td>\n",
              "      <td>134.313477</td>\n",
              "      <td>1782030.0</td>\n",
              "    </tr>\n",
              "    <tr>\n",
              "      <th>1</th>\n",
              "      <td>ADANIPORTS</td>\n",
              "      <td>5/7/2008</td>\n",
              "      <td>152.000000</td>\n",
              "      <td>154.460007</td>\n",
              "      <td>150.240005</td>\n",
              "      <td>153.309998</td>\n",
              "      <td>136.232864</td>\n",
              "      <td>1180015.0</td>\n",
              "    </tr>\n",
              "    <tr>\n",
              "      <th>2</th>\n",
              "      <td>ADANIPORTS</td>\n",
              "      <td>5/8/2008</td>\n",
              "      <td>152.199997</td>\n",
              "      <td>156.759995</td>\n",
              "      <td>150.199997</td>\n",
              "      <td>155.889999</td>\n",
              "      <td>138.525497</td>\n",
              "      <td>1856245.0</td>\n",
              "    </tr>\n",
              "    <tr>\n",
              "      <th>3</th>\n",
              "      <td>ADANIPORTS</td>\n",
              "      <td>5/9/2008</td>\n",
              "      <td>155.000000</td>\n",
              "      <td>160.600006</td>\n",
              "      <td>154.210007</td>\n",
              "      <td>156.520004</td>\n",
              "      <td>139.085312</td>\n",
              "      <td>3251375.0</td>\n",
              "    </tr>\n",
              "    <tr>\n",
              "      <th>4</th>\n",
              "      <td>ADANIPORTS</td>\n",
              "      <td>5/12/2008</td>\n",
              "      <td>156.000000</td>\n",
              "      <td>163.479996</td>\n",
              "      <td>151.000000</td>\n",
              "      <td>162.500000</td>\n",
              "      <td>144.399170</td>\n",
              "      <td>5031635.0</td>\n",
              "    </tr>\n",
              "  </tbody>\n",
              "</table>\n",
              "</div>\n",
              "      <button class=\"colab-df-convert\" onclick=\"convertToInteractive('df-d6df2a23-b915-4305-aac5-faf9eb103f77')\"\n",
              "              title=\"Convert this dataframe to an interactive table.\"\n",
              "              style=\"display:none;\">\n",
              "        \n",
              "  <svg xmlns=\"http://www.w3.org/2000/svg\" height=\"24px\"viewBox=\"0 0 24 24\"\n",
              "       width=\"24px\">\n",
              "    <path d=\"M0 0h24v24H0V0z\" fill=\"none\"/>\n",
              "    <path d=\"M18.56 5.44l.94 2.06.94-2.06 2.06-.94-2.06-.94-.94-2.06-.94 2.06-2.06.94zm-11 1L8.5 8.5l.94-2.06 2.06-.94-2.06-.94L8.5 2.5l-.94 2.06-2.06.94zm10 10l.94 2.06.94-2.06 2.06-.94-2.06-.94-.94-2.06-.94 2.06-2.06.94z\"/><path d=\"M17.41 7.96l-1.37-1.37c-.4-.4-.92-.59-1.43-.59-.52 0-1.04.2-1.43.59L10.3 9.45l-7.72 7.72c-.78.78-.78 2.05 0 2.83L4 21.41c.39.39.9.59 1.41.59.51 0 1.02-.2 1.41-.59l7.78-7.78 2.81-2.81c.8-.78.8-2.07 0-2.86zM5.41 20L4 18.59l7.72-7.72 1.47 1.35L5.41 20z\"/>\n",
              "  </svg>\n",
              "      </button>\n",
              "      \n",
              "  <style>\n",
              "    .colab-df-container {\n",
              "      display:flex;\n",
              "      flex-wrap:wrap;\n",
              "      gap: 12px;\n",
              "    }\n",
              "\n",
              "    .colab-df-convert {\n",
              "      background-color: #E8F0FE;\n",
              "      border: none;\n",
              "      border-radius: 50%;\n",
              "      cursor: pointer;\n",
              "      display: none;\n",
              "      fill: #1967D2;\n",
              "      height: 32px;\n",
              "      padding: 0 0 0 0;\n",
              "      width: 32px;\n",
              "    }\n",
              "\n",
              "    .colab-df-convert:hover {\n",
              "      background-color: #E2EBFA;\n",
              "      box-shadow: 0px 1px 2px rgba(60, 64, 67, 0.3), 0px 1px 3px 1px rgba(60, 64, 67, 0.15);\n",
              "      fill: #174EA6;\n",
              "    }\n",
              "\n",
              "    [theme=dark] .colab-df-convert {\n",
              "      background-color: #3B4455;\n",
              "      fill: #D2E3FC;\n",
              "    }\n",
              "\n",
              "    [theme=dark] .colab-df-convert:hover {\n",
              "      background-color: #434B5C;\n",
              "      box-shadow: 0px 1px 3px 1px rgba(0, 0, 0, 0.15);\n",
              "      filter: drop-shadow(0px 1px 2px rgba(0, 0, 0, 0.3));\n",
              "      fill: #FFFFFF;\n",
              "    }\n",
              "  </style>\n",
              "\n",
              "      <script>\n",
              "        const buttonEl =\n",
              "          document.querySelector('#df-d6df2a23-b915-4305-aac5-faf9eb103f77 button.colab-df-convert');\n",
              "        buttonEl.style.display =\n",
              "          google.colab.kernel.accessAllowed ? 'block' : 'none';\n",
              "\n",
              "        async function convertToInteractive(key) {\n",
              "          const element = document.querySelector('#df-d6df2a23-b915-4305-aac5-faf9eb103f77');\n",
              "          const dataTable =\n",
              "            await google.colab.kernel.invokeFunction('convertToInteractive',\n",
              "                                                     [key], {});\n",
              "          if (!dataTable) return;\n",
              "\n",
              "          const docLinkHtml = 'Like what you see? Visit the ' +\n",
              "            '<a target=\"_blank\" href=https://colab.research.google.com/notebooks/data_table.ipynb>data table notebook</a>'\n",
              "            + ' to learn more about interactive tables.';\n",
              "          element.innerHTML = '';\n",
              "          dataTable['output_type'] = 'display_data';\n",
              "          await google.colab.output.renderOutput(dataTable, element);\n",
              "          const docLink = document.createElement('div');\n",
              "          docLink.innerHTML = docLinkHtml;\n",
              "          element.appendChild(docLink);\n",
              "        }\n",
              "      </script>\n",
              "    </div>\n",
              "  </div>\n",
              "  "
            ]
          },
          "metadata": {},
          "execution_count": 2
        }
      ]
    },
    {
      "cell_type": "code",
      "source": [
        "le = preprocessing.LabelEncoder()\n",
        "df['Symbol']=le.fit_transform(df['Symbol'])\n",
        "df['Date']=le.fit_transform(df['Date'])\n",
        "df['Open']=le.fit_transform(df['Open'])\n",
        "df['High']=le.fit_transform(df['High'])\n",
        "df['Low']=le.fit_transform(df['Low'])\n",
        "df['Close']=le.fit_transform(df['Close'])\n",
        "df['Adj Close']=le.fit_transform(df['Adj Close'])\n",
        "df['Volume']=le.fit_transform(df['Volume'])"
      ],
      "metadata": {
        "id": "zdDQH6trWkT6"
      },
      "execution_count": 4,
      "outputs": []
    },
    {
      "cell_type": "code",
      "source": [
        "df[\"Diff\"] = df.Close.diff()\n",
        "df[\"SMA_2\"] = df.Close.rolling(2).mean()\n",
        "df[\"Force_Index\"] = df[\"Close\"] * df[\"Volume\"]\n",
        "df[\"y\"] = df[\"Diff\"].apply(lambda x: 1 if x > 0 else 0).shift(-1)"
      ],
      "metadata": {
        "id": "WGBPqgiVVkxI"
      },
      "execution_count": 5,
      "outputs": []
    },
    {
      "cell_type": "code",
      "source": [
        "df = df.drop(\n",
        "   [\"Open\", \"High\", \"Low\", \"Close\", \"Volume\", \"Diff\", \"Adj Close\"],\n",
        "   axis=1,\n",
        ").dropna()\n",
        "print(df)\n"
      ],
      "metadata": {
        "colab": {
          "base_uri": "https://localhost:8080/"
        },
        "id": "xDvxc-zlV-T_",
        "outputId": "9da19327-2354-4d77-b171-23a41abdacdc"
      },
      "execution_count": 6,
      "outputs": [
        {
          "output_type": "stream",
          "name": "stdout",
          "text": [
            "       Symbol  Date    SMA_2  Force_Index    y\n",
            "1           0  1600   6801.5    386267306  1.0\n",
            "2           0  1607   7000.0    433094164  1.0\n",
            "3           0  1614   7128.0    465875634  1.0\n",
            "4           0  1421   7378.5    510670701  0.0\n",
            "5           0  1429   7455.0    458850372  0.0\n",
            "...       ...   ...      ...          ...  ...\n",
            "73310      20  1335  11484.5    135185420  1.0\n",
            "73311      20  1343  11511.0    202483456  0.0\n",
            "73312      20  1369  11543.5    124935585  0.0\n",
            "73313      20  1484  11415.5    204807776  1.0\n",
            "73314      20  1563  11368.5    189806190  1.0\n",
            "\n",
            "[73314 rows x 5 columns]\n"
          ]
        }
      ]
    },
    {
      "cell_type": "code",
      "source": [
        "X = df.drop([\"y\"], axis=1).values\n",
        "y = df[\"y\"].values\n",
        "X_train, X_test, y_train, y_test = train_test_split(\n",
        "   X,\n",
        "   y,\n",
        "   test_size=0.1,\n",
        "   shuffle=False,\n",
        ")"
      ],
      "metadata": {
        "id": "z2EFiAI7WLtL"
      },
      "execution_count": 16,
      "outputs": []
    },
    {
      "cell_type": "code",
      "source": [
        "clf = make_pipeline(StandardScaler(), MLPClassifier(random_state=3, shuffle=False))\n",
        "clf.fit(\n",
        "   X_train,\n",
        "   y_train,\n",
        ")"
      ],
      "metadata": {
        "colab": {
          "base_uri": "https://localhost:8080/"
        },
        "id": "cZotvHKgWP7E",
        "outputId": "b6f05743-cc7c-4833-c084-12af31ffc9c0"
      },
      "execution_count": 17,
      "outputs": [
        {
          "output_type": "execute_result",
          "data": {
            "text/plain": [
              "Pipeline(steps=[('standardscaler', StandardScaler()),\n",
              "                ('mlpclassifier',\n",
              "                 MLPClassifier(random_state=3, shuffle=False))])"
            ]
          },
          "metadata": {},
          "execution_count": 17
        }
      ]
    },
    {
      "cell_type": "code",
      "source": [
        "y_pred = clf.predict(X_test)\n",
        "print(accuracy_score(y_test, y_pred))"
      ],
      "metadata": {
        "colab": {
          "base_uri": "https://localhost:8080/"
        },
        "id": "h9BJ2rjxW9AE",
        "outputId": "dd4a05e7-f687-44e6-9134-883c46c11627"
      },
      "execution_count": 18,
      "outputs": [
        {
          "output_type": "stream",
          "name": "stdout",
          "text": [
            "0.5088652482269503\n"
          ]
        }
      ]
    }
  ]
}
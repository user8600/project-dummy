{
 "cells": [
  {
   "cell_type": "code",
   "execution_count": 1,
   "metadata": {
    "id": "YfO1juLsTmSh"
   },
   "outputs": [],
   "source": [
    "from sklearn.model_selection import train_test_split\n",
    "from sklearn.metrics import accuracy_score\n",
    "from sklearn.neural_network import MLPClassifier\n",
    "from sklearn.pipeline import make_pipeline\n",
    "from sklearn.preprocessing import StandardScaler\n",
    "import numpy as np \n",
    "import pandas as pd \n",
    "import matplotlib.pyplot as plt \n",
    "import math\n",
    "from sklearn import preprocessing\n",
    "%matplotlib inline"
   ]
  },
  {
   "cell_type": "code",
   "execution_count": 2,
   "metadata": {
    "colab": {
     "base_uri": "https://localhost:8080/",
     "height": 206
    },
    "id": "5RlwIWeeUfwJ",
    "outputId": "0fb05dfe-7a0e-471c-999c-5bff932d48d6"
   },
   "outputs": [
    {
     "data": {
      "text/html": [
       "<div>\n",
       "<style scoped>\n",
       "    .dataframe tbody tr th:only-of-type {\n",
       "        vertical-align: middle;\n",
       "    }\n",
       "\n",
       "    .dataframe tbody tr th {\n",
       "        vertical-align: top;\n",
       "    }\n",
       "\n",
       "    .dataframe thead th {\n",
       "        text-align: right;\n",
       "    }\n",
       "</style>\n",
       "<table border=\"1\" class=\"dataframe\">\n",
       "  <thead>\n",
       "    <tr style=\"text-align: right;\">\n",
       "      <th></th>\n",
       "      <th>Symbol</th>\n",
       "      <th>Date</th>\n",
       "      <th>Open</th>\n",
       "      <th>High</th>\n",
       "      <th>Low</th>\n",
       "      <th>Close</th>\n",
       "      <th>Adj Close</th>\n",
       "      <th>Volume</th>\n",
       "    </tr>\n",
       "  </thead>\n",
       "  <tbody>\n",
       "    <tr>\n",
       "      <th>0</th>\n",
       "      <td>ADANIPORTS</td>\n",
       "      <td>5/6/2008</td>\n",
       "      <td>150.000000</td>\n",
       "      <td>153.570007</td>\n",
       "      <td>147.820007</td>\n",
       "      <td>151.149994</td>\n",
       "      <td>134.313477</td>\n",
       "      <td>1782030.0</td>\n",
       "    </tr>\n",
       "    <tr>\n",
       "      <th>1</th>\n",
       "      <td>ADANIPORTS</td>\n",
       "      <td>5/7/2008</td>\n",
       "      <td>152.000000</td>\n",
       "      <td>154.460007</td>\n",
       "      <td>150.240005</td>\n",
       "      <td>153.309998</td>\n",
       "      <td>136.232864</td>\n",
       "      <td>1180015.0</td>\n",
       "    </tr>\n",
       "    <tr>\n",
       "      <th>2</th>\n",
       "      <td>ADANIPORTS</td>\n",
       "      <td>5/8/2008</td>\n",
       "      <td>152.199997</td>\n",
       "      <td>156.759995</td>\n",
       "      <td>150.199997</td>\n",
       "      <td>155.889999</td>\n",
       "      <td>138.525497</td>\n",
       "      <td>1856245.0</td>\n",
       "    </tr>\n",
       "    <tr>\n",
       "      <th>3</th>\n",
       "      <td>ADANIPORTS</td>\n",
       "      <td>5/9/2008</td>\n",
       "      <td>155.000000</td>\n",
       "      <td>160.600006</td>\n",
       "      <td>154.210007</td>\n",
       "      <td>156.520004</td>\n",
       "      <td>139.085312</td>\n",
       "      <td>3251375.0</td>\n",
       "    </tr>\n",
       "    <tr>\n",
       "      <th>4</th>\n",
       "      <td>ADANIPORTS</td>\n",
       "      <td>5/12/2008</td>\n",
       "      <td>156.000000</td>\n",
       "      <td>163.479996</td>\n",
       "      <td>151.000000</td>\n",
       "      <td>162.500000</td>\n",
       "      <td>144.399170</td>\n",
       "      <td>5031635.0</td>\n",
       "    </tr>\n",
       "  </tbody>\n",
       "</table>\n",
       "</div>"
      ],
      "text/plain": [
       "       Symbol       Date        Open        High         Low       Close  \\\n",
       "0  ADANIPORTS   5/6/2008  150.000000  153.570007  147.820007  151.149994   \n",
       "1  ADANIPORTS   5/7/2008  152.000000  154.460007  150.240005  153.309998   \n",
       "2  ADANIPORTS   5/8/2008  152.199997  156.759995  150.199997  155.889999   \n",
       "3  ADANIPORTS   5/9/2008  155.000000  160.600006  154.210007  156.520004   \n",
       "4  ADANIPORTS  5/12/2008  156.000000  163.479996  151.000000  162.500000   \n",
       "\n",
       "    Adj Close     Volume  \n",
       "0  134.313477  1782030.0  \n",
       "1  136.232864  1180015.0  \n",
       "2  138.525497  1856245.0  \n",
       "3  139.085312  3251375.0  \n",
       "4  144.399170  5031635.0  "
      ]
     },
     "execution_count": 2,
     "metadata": {},
     "output_type": "execute_result"
    }
   ],
   "source": [
    "df = pd.read_csv(r\"C:\\Users\\regar\\project1\\data.csv\")\n",
    "df.head()"
   ]
  },
  {
   "cell_type": "code",
   "execution_count": 3,
   "metadata": {
    "id": "zdDQH6trWkT6"
   },
   "outputs": [],
   "source": [
    "le = preprocessing.LabelEncoder()\n",
    "df['Symbol']=le.fit_transform(df['Symbol'])\n",
    "df['Date']=le.fit_transform(df['Date'])\n",
    "df['Open']=le.fit_transform(df['Open'])\n",
    "df['High']=le.fit_transform(df['High'])\n",
    "df['Low']=le.fit_transform(df['Low'])\n",
    "df['Close']=le.fit_transform(df['Close'])\n",
    "df['Adj Close']=le.fit_transform(df['Adj Close'])\n",
    "df['Volume']=le.fit_transform(df['Volume'])"
   ]
  },
  {
   "cell_type": "code",
   "execution_count": 4,
   "metadata": {},
   "outputs": [
    {
     "name": "stdout",
     "output_type": "stream",
     "text": [
      "<class 'pandas.core.frame.DataFrame'>\n",
      "RangeIndex: 73316 entries, 0 to 73315\n",
      "Data columns (total 8 columns):\n",
      " #   Column     Non-Null Count  Dtype\n",
      "---  ------     --------------  -----\n",
      " 0   Symbol     73316 non-null  int32\n",
      " 1   Date       73316 non-null  int32\n",
      " 2   Open       73316 non-null  int64\n",
      " 3   High       73316 non-null  int64\n",
      " 4   Low        73316 non-null  int64\n",
      " 5   Close      73316 non-null  int64\n",
      " 6   Adj Close  73316 non-null  int64\n",
      " 7   Volume     73316 non-null  int64\n",
      "dtypes: int32(2), int64(6)\n",
      "memory usage: 3.9 MB\n"
     ]
    }
   ],
   "source": [
    "df.info()"
   ]
  },
  {
   "cell_type": "code",
   "execution_count": 5,
   "metadata": {},
   "outputs": [
    {
     "data": {
      "text/html": [
       "<div>\n",
       "<style scoped>\n",
       "    .dataframe tbody tr th:only-of-type {\n",
       "        vertical-align: middle;\n",
       "    }\n",
       "\n",
       "    .dataframe tbody tr th {\n",
       "        vertical-align: top;\n",
       "    }\n",
       "\n",
       "    .dataframe thead th {\n",
       "        text-align: right;\n",
       "    }\n",
       "</style>\n",
       "<table border=\"1\" class=\"dataframe\">\n",
       "  <thead>\n",
       "    <tr style=\"text-align: right;\">\n",
       "      <th></th>\n",
       "      <th>Symbol</th>\n",
       "      <th>Date</th>\n",
       "      <th>Open</th>\n",
       "      <th>High</th>\n",
       "      <th>Low</th>\n",
       "      <th>Close</th>\n",
       "      <th>Adj Close</th>\n",
       "      <th>Volume</th>\n",
       "    </tr>\n",
       "  </thead>\n",
       "  <tbody>\n",
       "    <tr>\n",
       "      <th>count</th>\n",
       "      <td>73316.000000</td>\n",
       "      <td>73316.000000</td>\n",
       "      <td>73316.000000</td>\n",
       "      <td>73316.000000</td>\n",
       "      <td>73316.000000</td>\n",
       "      <td>73316.000000</td>\n",
       "      <td>73316.000000</td>\n",
       "      <td>73316.000000</td>\n",
       "    </tr>\n",
       "    <tr>\n",
       "      <th>mean</th>\n",
       "      <td>14.564229</td>\n",
       "      <td>1232.415448</td>\n",
       "      <td>14334.807805</td>\n",
       "      <td>17472.382359</td>\n",
       "      <td>17938.049907</td>\n",
       "      <td>22732.969516</td>\n",
       "      <td>34510.858216</td>\n",
       "      <td>33896.048898</td>\n",
       "    </tr>\n",
       "    <tr>\n",
       "      <th>std</th>\n",
       "      <td>8.643760</td>\n",
       "      <td>712.489795</td>\n",
       "      <td>8125.194475</td>\n",
       "      <td>10098.365803</td>\n",
       "      <td>10451.924551</td>\n",
       "      <td>13352.026972</td>\n",
       "      <td>20121.456667</td>\n",
       "      <td>20255.869848</td>\n",
       "    </tr>\n",
       "    <tr>\n",
       "      <th>min</th>\n",
       "      <td>0.000000</td>\n",
       "      <td>0.000000</td>\n",
       "      <td>0.000000</td>\n",
       "      <td>0.000000</td>\n",
       "      <td>0.000000</td>\n",
       "      <td>0.000000</td>\n",
       "      <td>0.000000</td>\n",
       "      <td>0.000000</td>\n",
       "    </tr>\n",
       "    <tr>\n",
       "      <th>25%</th>\n",
       "      <td>7.000000</td>\n",
       "      <td>616.000000</td>\n",
       "      <td>7667.000000</td>\n",
       "      <td>9204.750000</td>\n",
       "      <td>9396.000000</td>\n",
       "      <td>11868.750000</td>\n",
       "      <td>17121.000000</td>\n",
       "      <td>16153.000000</td>\n",
       "    </tr>\n",
       "    <tr>\n",
       "      <th>50%</th>\n",
       "      <td>15.000000</td>\n",
       "      <td>1231.000000</td>\n",
       "      <td>13565.000000</td>\n",
       "      <td>16336.500000</td>\n",
       "      <td>16673.000000</td>\n",
       "      <td>21139.500000</td>\n",
       "      <td>34238.500000</td>\n",
       "      <td>33455.500000</td>\n",
       "    </tr>\n",
       "    <tr>\n",
       "      <th>75%</th>\n",
       "      <td>22.000000</td>\n",
       "      <td>1849.000000</td>\n",
       "      <td>21218.250000</td>\n",
       "      <td>25831.000000</td>\n",
       "      <td>26603.000000</td>\n",
       "      <td>33728.250000</td>\n",
       "      <td>51835.250000</td>\n",
       "      <td>51427.250000</td>\n",
       "    </tr>\n",
       "    <tr>\n",
       "      <th>max</th>\n",
       "      <td>29.000000</td>\n",
       "      <td>2468.000000</td>\n",
       "      <td>29895.000000</td>\n",
       "      <td>37205.000000</td>\n",
       "      <td>38329.000000</td>\n",
       "      <td>48714.000000</td>\n",
       "      <td>69593.000000</td>\n",
       "      <td>69411.000000</td>\n",
       "    </tr>\n",
       "  </tbody>\n",
       "</table>\n",
       "</div>"
      ],
      "text/plain": [
       "             Symbol          Date          Open          High           Low  \\\n",
       "count  73316.000000  73316.000000  73316.000000  73316.000000  73316.000000   \n",
       "mean      14.564229   1232.415448  14334.807805  17472.382359  17938.049907   \n",
       "std        8.643760    712.489795   8125.194475  10098.365803  10451.924551   \n",
       "min        0.000000      0.000000      0.000000      0.000000      0.000000   \n",
       "25%        7.000000    616.000000   7667.000000   9204.750000   9396.000000   \n",
       "50%       15.000000   1231.000000  13565.000000  16336.500000  16673.000000   \n",
       "75%       22.000000   1849.000000  21218.250000  25831.000000  26603.000000   \n",
       "max       29.000000   2468.000000  29895.000000  37205.000000  38329.000000   \n",
       "\n",
       "              Close     Adj Close        Volume  \n",
       "count  73316.000000  73316.000000  73316.000000  \n",
       "mean   22732.969516  34510.858216  33896.048898  \n",
       "std    13352.026972  20121.456667  20255.869848  \n",
       "min        0.000000      0.000000      0.000000  \n",
       "25%    11868.750000  17121.000000  16153.000000  \n",
       "50%    21139.500000  34238.500000  33455.500000  \n",
       "75%    33728.250000  51835.250000  51427.250000  \n",
       "max    48714.000000  69593.000000  69411.000000  "
      ]
     },
     "execution_count": 5,
     "metadata": {},
     "output_type": "execute_result"
    }
   ],
   "source": [
    "df.describe()"
   ]
  },
  {
   "cell_type": "code",
   "execution_count": 6,
   "metadata": {
    "id": "WGBPqgiVVkxI"
   },
   "outputs": [],
   "source": [
    "df[\"Diff\"] = df.Close.diff()\n",
    "df[\"SMA_2\"] = df.Close.rolling(2).mean()\n",
    "df[\"Force_Index\"] = df[\"Close\"] * df[\"Volume\"]\n",
    "df[\"y\"] = df[\"Diff\"].apply(lambda x: 1 if x > 0 else 0).shift(-1)"
   ]
  },
  {
   "cell_type": "code",
   "execution_count": 7,
   "metadata": {
    "colab": {
     "base_uri": "https://localhost:8080/"
    },
    "id": "xDvxc-zlV-T_",
    "outputId": "9da19327-2354-4d77-b171-23a41abdacdc"
   },
   "outputs": [
    {
     "name": "stdout",
     "output_type": "stream",
     "text": [
      "       Symbol  Date    SMA_2  Force_Index    y\n",
      "1           0  1600   6801.5    386267306  1.0\n",
      "2           0  1607   7000.0    433094164  1.0\n",
      "3           0  1614   7128.0    465875634  1.0\n",
      "4           0  1421   7378.5    510670701  0.0\n",
      "5           0  1429   7455.0    458850372  0.0\n",
      "...       ...   ...      ...          ...  ...\n",
      "73310      20  1335  11484.5    135185420  1.0\n",
      "73311      20  1343  11511.0    202483456  0.0\n",
      "73312      20  1369  11543.5    124935585  0.0\n",
      "73313      20  1484  11415.5    204807776  1.0\n",
      "73314      20  1563  11368.5    189806190  1.0\n",
      "\n",
      "[73314 rows x 5 columns]\n"
     ]
    }
   ],
   "source": [
    "df = df.drop(\n",
    "   [\"Open\", \"High\", \"Low\", \"Close\", \"Volume\", \"Diff\", \"Adj Close\"],\n",
    "   axis=1,\n",
    ").dropna()\n",
    "print(df)\n"
   ]
  },
  {
   "cell_type": "code",
   "execution_count": 8,
   "metadata": {},
   "outputs": [
    {
     "name": "stdout",
     "output_type": "stream",
     "text": [
      "<class 'pandas.core.frame.DataFrame'>\n",
      "Int64Index: 73314 entries, 1 to 73314\n",
      "Data columns (total 5 columns):\n",
      " #   Column       Non-Null Count  Dtype  \n",
      "---  ------       --------------  -----  \n",
      " 0   Symbol       73314 non-null  int32  \n",
      " 1   Date         73314 non-null  int32  \n",
      " 2   SMA_2        73314 non-null  float64\n",
      " 3   Force_Index  73314 non-null  int64  \n",
      " 4   y            73314 non-null  float64\n",
      "dtypes: float64(2), int32(2), int64(1)\n",
      "memory usage: 2.8 MB\n"
     ]
    }
   ],
   "source": [
    "df.info()"
   ]
  },
  {
   "cell_type": "code",
   "execution_count": 9,
   "metadata": {
    "id": "z2EFiAI7WLtL"
   },
   "outputs": [],
   "source": [
    "X = df.drop([\"y\"], axis=1).values\n",
    "y = df[\"y\"].values\n",
    "X_train, X_test, y_train, y_test = train_test_split(\n",
    "   X,\n",
    "   y,\n",
    "   test_size=0.1,\n",
    "   shuffle=False,\n",
    ")"
   ]
  },
  {
   "cell_type": "code",
   "execution_count": 10,
   "metadata": {
    "colab": {
     "base_uri": "https://localhost:8080/"
    },
    "id": "cZotvHKgWP7E",
    "outputId": "b6f05743-cc7c-4833-c084-12af31ffc9c0"
   },
   "outputs": [
    {
     "data": {
      "text/plain": [
       "Pipeline(steps=[('standardscaler', StandardScaler()),\n",
       "                ('mlpclassifier',\n",
       "                 MLPClassifier(random_state=3, shuffle=False))])"
      ]
     },
     "execution_count": 10,
     "metadata": {},
     "output_type": "execute_result"
    }
   ],
   "source": [
    "clf = make_pipeline(StandardScaler(), MLPClassifier(random_state=3, shuffle=False))\n",
    "clf.fit(\n",
    "   X_train,\n",
    "   y_train,\n",
    ")"
   ]
  },
  {
   "cell_type": "code",
   "execution_count": 11,
   "metadata": {
    "colab": {
     "base_uri": "https://localhost:8080/"
    },
    "id": "h9BJ2rjxW9AE",
    "outputId": "dd4a05e7-f687-44e6-9134-883c46c11627"
   },
   "outputs": [
    {
     "name": "stdout",
     "output_type": "stream",
     "text": [
      "0.5088652482269503\n"
     ]
    }
   ],
   "source": [
    "y_pred = clf.predict(X_test)\n",
    "print(accuracy_score(y_test, y_pred))"
   ]
  }
 ],
 "metadata": {
  "colab": {
   "collapsed_sections": [],
   "provenance": []
  },
  "kernelspec": {
   "display_name": "Python 3 (ipykernel)",
   "language": "python",
   "name": "python3"
  },
  "language_info": {
   "codemirror_mode": {
    "name": "ipython",
    "version": 3
   },
   "file_extension": ".py",
   "mimetype": "text/x-python",
   "name": "python",
   "nbconvert_exporter": "python",
   "pygments_lexer": "ipython3",
   "version": "3.9.12"
  }
 },
 "nbformat": 4,
 "nbformat_minor": 1
}
